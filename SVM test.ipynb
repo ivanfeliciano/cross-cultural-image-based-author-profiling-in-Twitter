{
 "cells": [
  {
   "cell_type": "code",
   "execution_count": 1,
   "metadata": {},
   "outputs": [],
   "source": [
    "import pandas as pd\n",
    "import numpy as np\n",
    "import matplotlib.pyplot as plt\n",
    "from sklearn.externals import joblib\n",
    "from time import time\n",
    "%matplotlib inline"
   ]
  },
  {
   "cell_type": "code",
   "execution_count": 2,
   "metadata": {},
   "outputs": [],
   "source": [
    "train_data = pd.read_csv('data_train_en.csv', sep='\\s*,\\s*', header=0, encoding='ascii', engine='python')"
   ]
  },
  {
   "cell_type": "code",
   "execution_count": 76,
   "metadata": {},
   "outputs": [],
   "source": [
    "X = train_data.drop('class', axis=1)\n",
    "y = train_data['class']\n",
    "counter = 0\n",
    "sum_vector_males = np.zeros(1000)\n",
    "sum_vector_females = np.zeros(1000)\n",
    "for i, x in X.iterrows():\n",
    "    row = np.array([col for j, col in x.iteritems()])\n",
    "    if y[i] == 'female':\n",
    "        sum_vector_females = np.add(sum_vector_females, row)\n",
    "    else:\n",
    "        sum_vector_males = np.add(sum_vector_males, row)\n",
    "labels = [attr for attr in X]"
   ]
  },
  {
   "cell_type": "code",
   "execution_count": 77,
   "metadata": {
    "scrolled": true
   },
   "outputs": [
    {
     "name": "stdout",
     "output_type": "stream",
     "text": [
      "[1748.08392312  422.57880676  331.97173168  329.68172741  231.55985368\n",
      "  209.04841586  206.17916467  118.4321402   117.39309314  101.6756099\n",
      "   96.72039498   92.32848495   91.44557674   83.39780776   78.37230501\n",
      "   74.80517967   74.61548821   74.5350568    72.44342752   71.98363595\n",
      "   71.26879761   69.01751554   67.04605013   66.37814627   65.75098306\n",
      "   65.16911306   63.16847048   62.79031966   60.74565641   60.68719571\n",
      "   60.53889946   56.64426396   53.36616363   53.26302825   53.14109621\n",
      "   52.65573375   51.4998515    51.47380112   51.31106552   50.47073551\n",
      "   50.393183     50.3602903    50.21780984   49.19036666   48.2607936\n",
      "   46.38231095   45.39472548   45.28764215   45.1655384    44.69370375]\n",
      "['plate', 'ice_lolly', 'ice_cream', 'quail', 'sunglass', 'guacamole', 'harmonica', 'triceratops', 'snorkel', 'yawl', 'medicine_chest', 'pillow', 'sports_car', 'toyshop', 'hourglass', 'pajama', 'container_ship', 'megalith', 'groom', 'trombone', 'scuba_diver', 'consomme', 'brassiere', 'mailbox', 'minibus', 'digital_clock', 'electric_locomotive', 'snowmobile', 'shopping_cart', 'wool', 'oil_filter', 'cock', 'thresher', 'sandbar', 'cello', 'seat_belt', 'brass', 'hot_pot', 'missile', 'American_alligator', 'stethoscope', 'diaper', 'carousel', 'tray', 'shopping_basket', 'combination_lock', 'neck_brace', 'red-breasted_merganser', 'perfume', 'sombrero']\n"
     ]
    },
    {
     "data": {
      "image/png": "[encoded data removed]",
      "text/plain": [
       "<Figure size 432x288 with 1 Axes>"
      ]
     },
     "metadata": {
      "needs_background": "light"
     },
     "output_type": "display_data"
    }
   ],
   "source": [
    "sum_vector_males_aux = sum_vector_males\n",
    "len_top_n = 50\n",
    "sorted_indexes = np.argsort(sum_vector_males_aux)[::-1]\n",
    "labels_sorted = [labels[i] for i in sorted_indexes]\n",
    "sum_vector_males_aux[:] = sum_vector_males_aux[sorted_indexes]\n",
    "print(sum_vector_males_aux[:50])\n",
    "print(labels_sorted[:50])\n",
    "plt.bar(np.arange(len_top_n),sum_vector_males_aux[:len_top_n])\n",
    "plt.xticks(np.arange(len_top_n), labels_sorted[:len_top_n])\n",
    "plt.show()"
   ]
  },
  {
   "cell_type": "code",
   "execution_count": 78,
   "metadata": {},
   "outputs": [
    {
     "name": "stdout",
     "output_type": "stream",
     "text": [
      "[1530.84335734  357.10892563  309.05030301  235.96114444  227.86049781\n",
      "  194.13137358  182.65815033  174.84878535  110.1648517    92.14725029\n",
      "   88.71891951   85.88278655   80.22119334   80.10764028   74.67531695\n",
      "   70.67617595   70.24980937   69.76468524   68.4514344    67.40762546\n",
      "   67.00373212   65.31967501   65.29495384   62.721186     62.17573101\n",
      "   60.98693039   59.82953853   59.66141816   59.41605839   58.91988246\n",
      "   58.81403241   57.67776295   57.02483041   55.92154346   55.89304001\n",
      "   55.60848391   55.54306351   54.5090343    53.93369464   53.66203443\n",
      "   52.53322805   52.3211196    52.08926082   51.71414299   51.5820757\n",
      "   51.49326439   50.98075185   50.85105306   50.60606181   48.52989783]\n",
      "['plate', 'ice_lolly', 'ice_cream', 'sunglass', 'harmonica', 'quail', 'guacamole', 'wool', 'pillow', 'medicine_chest', 'overskirt', 'triceratops', 'boa_constrictor', 'lifeboat', 'megalith', 'toyshop', 'brass', 'scuba_diver', 'container_ship', 'carousel', 'swab', 'soccer_ball', 'mailbox', 'seat_belt', 'pajama', 'convertible', 'tray', 'tennis_ball', 'consomme', 'electric_locomotive', 'brassiere', 'diaper', 'hourglass', 'mouse', 'minibus', 'yawl', 'plane', 'thresher', 'sandbar', 'snorkel', 'green_snake', 'cock', 'lampshade', 'digital_clock', 'snowmobile', 'missile', 'trombone', 'red-breasted_merganser', 'sports_car', 'American_alligator']\n"
     ]
    },
    {
     "data": {
      "image/png": "[encoded data removed]",
      "text/plain": [
       "<Figure size 432x288 with 1 Axes>"
      ]
     },
     "metadata": {
      "needs_background": "light"
     },
     "output_type": "display_data"
    }
   ],
   "source": [
    "sum_vector_females_aux = sum_vector_females\n",
    "len_top_n = 50\n",
    "sorted_indexes = np.argsort(sum_vector_females_aux)[::-1]\n",
    "labels_sorted = [labels[i] for i in sorted_indexes]\n",
    "sum_vector_females_aux[:] = sum_vector_females_aux[sorted_indexes]\n",
    "print(sum_vector_females_aux[:50])\n",
    "print(labels_sorted[:50])\n",
    "plt.bar(np.arange(len_top_n),sum_vector_females_aux[:len_top_n])\n",
    "plt.xticks(np.arange(len_top_n), labels_sorted[:len_top_n])\n",
    "plt.show()"
   ]
  },
  {
   "cell_type": "code",
   "execution_count": 83,
   "metadata": {
    "scrolled": false
   },
   "outputs": [
    {
     "name": "stdout",
     "output_type": "stream",
     "text": [
      "39\n",
      "{'soccer_ball', 'overskirt', 'convertible', 'swab', 'plane', 'tennis_ball', 'green_snake', 'boa_constrictor', 'lampshade', 'lifeboat', 'mouse'}\n",
      "{'hot_pot', 'sombrero', 'shopping_cart', 'stethoscope', 'oil_filter', 'neck_brace', 'shopping_basket', 'groom', 'cello', 'perfume', 'combination_lock'}\n"
     ]
    }
   ],
   "source": [
    "males_feat = set(\n",
    ")\n",
    "females_feat = set(['plate', 'ice_lolly', 'ice_cream', 'quail', 'sunglass', 'guacamole', 'harmonica', 'triceratops', 'snorkel', 'yawl', 'medicine_chest', 'pillow', 'sports_car', 'toyshop', 'hourglass', 'pajama', 'container_ship', 'megalith', 'groom', 'trombone', 'scuba_diver', 'consomme', 'brassiere', 'mailbox', 'minibus', 'digital_clock', 'electric_locomotive', 'snowmobile', 'shopping_cart', 'wool', 'oil_filter', 'cock', 'thresher', 'sandbar', 'cello', 'seat_belt', 'brass', 'hot_pot', 'missile', 'American_alligator', 'stethoscope', 'diaper', 'carousel', 'tray', 'shopping_basket', 'combination_lock', 'neck_brace', 'red-breasted_merganser', 'perfume', 'sombrero'])\n",
    "\n",
    "intersection_m_f = males_feat.intersection(females_feat)\n",
    "print(len(intersection_m_f))\n",
    "print(males_feat.difference(intersection_m_f))\n",
    "print(females_feat.difference(intersection_m_f))"
   ]
  },
  {
   "cell_type": "code",
   "execution_count": 27,
   "metadata": {},
   "outputs": [
    {
     "data": {
      "image/png": "[encoded data removed]",
      "text/plain": [
       "<Figure size 432x288 with 1 Axes>"
      ]
     },
     "metadata": {
      "needs_background": "light"
     },
     "output_type": "display_data"
    }
   ],
   "source": [
    "print()\n",
    "plt.bar(np.arange(len(sum_vector_females)), sum_vector_females)\n",
    "plt.show()"
   ]
  },
  {
   "cell_type": "code",
   "execution_count": null,
   "metadata": {},
   "outputs": [],
   "source": []
  },
  {
   "cell_type": "code",
   "execution_count": null,
   "metadata": {},
   "outputs": [],
   "source": [
    "type(X)"
   ]
  },
  {
   "cell_type": "code",
   "execution_count": 13,
   "metadata": {},
   "outputs": [
    {
     "name": "stdout",
     "output_type": "stream",
     "text": [
      "1098.41792678833 seconds training SVM\n"
     ]
    }
   ],
   "source": [
    "from sklearn.svm import SVC\n",
    "t_start = time()\n",
    "svclassifier = SVC(kernel='linear')\n",
    "svclassifier.fit(X, y)\n",
    "print(\"{} seconds training SVM\".format(time() - t_start))"
   ]
  },
  {
   "cell_type": "code",
   "execution_count": 7,
   "metadata": {},
   "outputs": [],
   "source": [
    "test_data = pd.read_csv('data_test_en.csv', sep='\\s*,\\s*', header=0, encoding='ascii', engine='python')"
   ]
  },
  {
   "cell_type": "code",
   "execution_count": 8,
   "metadata": {},
   "outputs": [],
   "source": [
    "X_test = train_data.drop('class', axis=1)\n",
    "y_test = train_data['class']"
   ]
  },
  {
   "cell_type": "code",
   "execution_count": 14,
   "metadata": {},
   "outputs": [],
   "source": [
    "y_pred = svclassifier.predict(X_test)"
   ]
  },
  {
   "cell_type": "code",
   "execution_count": 15,
   "metadata": {},
   "outputs": [
    {
     "name": "stdout",
     "output_type": "stream",
     "text": [
      "[[ 7381  7611]\n",
      " [ 4425 10574]]\n",
      "              precision    recall  f1-score   support\n",
      "\n",
      "      female       0.63      0.49      0.55     14992\n",
      "        male       0.58      0.70      0.64     14999\n",
      "\n",
      "   micro avg       0.60      0.60      0.60     29991\n",
      "   macro avg       0.60      0.60      0.59     29991\n",
      "weighted avg       0.60      0.60      0.59     29991\n",
      "\n"
     ]
    }
   ],
   "source": [
    "from sklearn.metrics import classification_report, confusion_matrix  \n",
    "print(confusion_matrix(y_test,y_pred))  \n",
    "print(classification_report(y_test,y_pred))  \n"
   ]
  },
  {
   "cell_type": "code",
   "execution_count": 16,
   "metadata": {},
   "outputs": [
    {
     "data": {
      "text/plain": [
       "['svm_kernel_lin.sav']"
      ]
     },
     "execution_count": 16,
     "metadata": {},
     "output_type": "execute_result"
    }
   ],
   "source": [
    "joblib.dump(svclassifier, 'svm_kernel_lin.sav')"
   ]
  },
  {
   "cell_type": "code",
   "execution_count": 19,
   "metadata": {},
   "outputs": [],
   "source": [
    "import pickle\n",
    "loaded_model = joblib.load('svm_kernel_lin.sav')\n",
    "result = loaded_model.score(X_test, y_test)"
   ]
  },
  {
   "cell_type": "code",
   "execution_count": 20,
   "metadata": {},
   "outputs": [
    {
     "name": "stdout",
     "output_type": "stream",
     "text": [
      "0.5986796038811644\n"
     ]
    }
   ],
   "source": [
    "print(result)"
   ]
  },
  {
   "cell_type": "code",
   "execution_count": null,
   "metadata": {},
   "outputs": [],
   "source": []
  }
 ],
 "metadata": {
  "kernelspec": {
   "display_name": "Python 3",
   "language": "python",
   "name": "python3"
  },
  "language_info": {
   "codemirror_mode": {
    "name": "ipython",
    "version": 3
   },
   "file_extension": ".py",
   "mimetype": "text/x-python",
   "name": "python",
   "nbconvert_exporter": "python",
   "pygments_lexer": "ipython3",
   "version": "3.5.2"
  }
 },
 "nbformat": 4,
 "nbformat_minor": 2
}
